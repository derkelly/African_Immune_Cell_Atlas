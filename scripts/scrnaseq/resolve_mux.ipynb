{
 "cells": [
  {
   "cell_type": "code",
   "execution_count": 3,
   "id": "cad99223-3fc0-4dc2-bf69-c7144df755ed",
   "metadata": {},
   "outputs": [],
   "source": [
    "import numpy as np\n",
    "import pandas as pd"
   ]
  },
  {
   "cell_type": "code",
   "execution_count": 21,
   "id": "8e648c41-1a4a-4131-8149-8f7f9f294a08",
   "metadata": {},
   "outputs": [],
   "source": [
    "demux_f = \"../../RNA/RNA_demux/L16/L16_demu.best\"\n",
    "freemux_f = \"../../RNA/RNA_demux/L16/L16_freemuxlet.clust1.samples.gz\""
   ]
  },
  {
   "cell_type": "code",
   "execution_count": 22,
   "id": "9499ef3c-c859-4350-a6d4-d754caa43853",
   "metadata": {},
   "outputs": [],
   "source": [
    "demux = pd.read_csv(demux_f, sep=\"\\t\")\n",
    "freemux = pd.read_csv(freemux_f, sep=\"\\t\")"
   ]
  },
  {
   "cell_type": "code",
   "execution_count": 23,
   "id": "6dd966e5-3fb2-4e61-9690-e7bf81e50e32",
   "metadata": {},
   "outputs": [],
   "source": [
    "demux_llk_diff = demux[demux['DROPLET.TYPE']==\"SNG\"].groupby('BEST.GUESS')['DIFF.LLK.BEST.NEXT'].agg('median')"
   ]
  },
  {
   "cell_type": "code",
   "execution_count": 24,
   "id": "447452f6-4682-46f8-858f-874786223c02",
   "metadata": {},
   "outputs": [],
   "source": [
    "freemux_llk_diff = freemux[freemux['DROPLET.TYPE']==\"SNG\"].groupby('BEST.GUESS')['DIFF.LLK.BEST.NEXT'].agg('median')"
   ]
  },
  {
   "cell_type": "code",
   "execution_count": 25,
   "id": "ef650e34-fe21-40b8-9521-4c54a5d25560",
   "metadata": {},
   "outputs": [
    {
     "data": {
      "text/plain": [
       "BEST.GUESS\n",
       "NWD528158,NWD528158,0.00    3.65\n",
       "NWD775293,NWD775293,0.00    3.39\n",
       "NWD788849,NWD788849,0.00    2.59\n",
       "NWD842436,NWD842436,0.00   -0.34\n",
       "NWD902870,NWD902870,0.00    2.94\n",
       "NWD906822,NWD906822,0.00    3.79\n",
       "NWD945485,NWD945485,0.00    4.18\n",
       "NWD950337,NWD950337,0.00    3.52\n",
       "Name: DIFF.LLK.BEST.NEXT, dtype: float64"
      ]
     },
     "execution_count": 25,
     "metadata": {},
     "output_type": "execute_result"
    }
   ],
   "source": [
    "demux_llk_diff"
   ]
  },
  {
   "cell_type": "code",
   "execution_count": 26,
   "id": "5c015050-6e85-4899-b1a4-848c3f1150c9",
   "metadata": {},
   "outputs": [
    {
     "data": {
      "text/plain": [
       "BEST.GUESS\n",
       "0,0    4.165\n",
       "1,1    3.730\n",
       "2,2    3.685\n",
       "3,3    3.400\n",
       "4,4    2.530\n",
       "5,5    3.770\n",
       "6,6    3.870\n",
       "7,7    3.140\n",
       "Name: DIFF.LLK.BEST.NEXT, dtype: float64"
      ]
     },
     "execution_count": 26,
     "metadata": {},
     "output_type": "execute_result"
    }
   ],
   "source": [
    "freemux_llk_diff"
   ]
  },
  {
   "cell_type": "code",
   "execution_count": null,
   "id": "6dc2b61f-159b-4fd4-8776-ea2f5aca1e4f",
   "metadata": {},
   "outputs": [],
   "source": [
    "demux[demux['DROPLET.TYPE']==\"SNG\"].groupby('BEST.GUESS')"
   ]
  },
  {
   "cell_type": "code",
   "execution_count": 78,
   "id": "c46c3999-5ad8-47ac-b4b8-24f36d579e5b",
   "metadata": {},
   "outputs": [
    {
     "ename": "NameError",
     "evalue": "name 'out_f' is not defined",
     "output_type": "error",
     "traceback": [
      "\u001b[0;31m---------------------------------------------------------------------------\u001b[0m",
      "\u001b[0;31mNameError\u001b[0m                                 Traceback (most recent call last)",
      "Cell \u001b[0;32mIn[78], line 4\u001b[0m\n\u001b[1;32m      2\u001b[0m     demux\u001b[38;5;241m.\u001b[39mto_csv(out_f \u001b[38;5;241m+\u001b[39m \u001b[38;5;124m\"\u001b[39m\u001b[38;5;124m.demux.txt\u001b[39m\u001b[38;5;124m\"\u001b[39m, sep\u001b[38;5;241m=\u001b[39m\u001b[38;5;124m\"\u001b[39m\u001b[38;5;130;01m\\t\u001b[39;00m\u001b[38;5;124m\"\u001b[39m, index\u001b[38;5;241m=\u001b[39m\u001b[38;5;28;01mFalse\u001b[39;00m)\n\u001b[1;32m      3\u001b[0m \u001b[38;5;28;01melse\u001b[39;00m:\n\u001b[0;32m----> 4\u001b[0m     freemux\u001b[38;5;241m.\u001b[39mto_csv(\u001b[43mout_f\u001b[49m \u001b[38;5;241m+\u001b[39m \u001b[38;5;124m\"\u001b[39m\u001b[38;5;124m.freemux.txt\u001b[39m\u001b[38;5;124m\"\u001b[39m, sep\u001b[38;5;241m=\u001b[39m\u001b[38;5;124m\"\u001b[39m\u001b[38;5;130;01m\\t\u001b[39;00m\u001b[38;5;124m\"\u001b[39m, index\u001b[38;5;241m=\u001b[39m\u001b[38;5;28;01mFalse\u001b[39;00m)\n",
      "\u001b[0;31mNameError\u001b[0m: name 'out_f' is not defined"
     ]
    }
   ],
   "source": [
    "if ((np.min(demux_llk_diff) > 0) | (np.min(demux_llk_diff) > np.min(freemux_llk_diff))):\n",
    "    demux.to_csv(out_f + \".demux.txt\", sep=\"\\t\", index=False)\n",
    "else:\n",
    "    freemux.to_csv(out_f + \".freemux.txt\", sep=\"\\t\", index=False)"
   ]
  }
 ],
 "metadata": {
  "kernelspec": {
   "display_name": "Python 3",
   "language": "python",
   "name": "python3"
  },
  "language_info": {
   "codemirror_mode": {
    "name": "ipython",
    "version": 3
   },
   "file_extension": ".py",
   "mimetype": "text/x-python",
   "name": "python",
   "nbconvert_exporter": "python",
   "pygments_lexer": "ipython3",
   "version": "3.11.5"
  }
 },
 "nbformat": 4,
 "nbformat_minor": 5
}
