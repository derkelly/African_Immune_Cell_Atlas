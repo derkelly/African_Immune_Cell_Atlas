{
 "cells": [
  {
   "cell_type": "code",
   "execution_count": 3,
   "id": "cad99223-3fc0-4dc2-bf69-c7144df755ed",
   "metadata": {},
   "outputs": [],
   "source": [
    "import numpy as np\n",
    "import pandas as pd"
   ]
  },
  {
   "cell_type": "code",
   "execution_count": 50,
   "id": "8e648c41-1a4a-4131-8149-8f7f9f294a08",
   "metadata": {},
   "outputs": [],
   "source": [
    "demux_f = \"../../RNA/RNA_demux/L43/L43_demu.best\"\n",
    "freemux_f = \"../../RNA/RNA_demux/L43/L43_freemuxlet.clust1.samples.gz\""
   ]
  },
  {
   "cell_type": "code",
   "execution_count": 51,
   "id": "9499ef3c-c859-4350-a6d4-d754caa43853",
   "metadata": {},
   "outputs": [],
   "source": [
    "demux = pd.read_csv(demux_f, sep=\"\\t\")\n",
    "freemux = pd.read_csv(freemux_f, sep=\"\\t\")"
   ]
  },
  {
   "cell_type": "code",
   "execution_count": 56,
   "id": "6dd966e5-3fb2-4e61-9690-e7bf81e50e32",
   "metadata": {},
   "outputs": [],
   "source": [
    "demux_min_llk_diff = demux[demux['DROPLET.TYPE']==\"SNG\"].groupby('BEST.GUESS')['DIFF.LLK.BEST.NEXT'].agg('median')"
   ]
  },
  {
   "cell_type": "code",
   "execution_count": 57,
   "id": "447452f6-4682-46f8-858f-874786223c02",
   "metadata": {},
   "outputs": [],
   "source": [
    "freemux_min_llk_diff = freemux[freemux['DROPLET.TYPE']==\"SNG\"].groupby('BEST.GUESS')['DIFF.LLK.BEST.NEXT'].agg('median')"
   ]
  },
  {
   "cell_type": "code",
   "execution_count": null,
   "id": "c46c3999-5ad8-47ac-b4b8-24f36d579e5b",
   "metadata": {},
   "outputs": [],
   "source": [
    "if demux_min_llk_diff > freemux_min_llk_diff:\n",
    "    demux.to_csv(out_f + \".demux.txt\", sep=\"\\t\", index=False)\n",
    "else:\n",
    "    freemux.to_csv(out_f + \".freemux.txt\", sep=\"\\t\", index=False)"
   ]
  }
 ],
 "metadata": {
  "kernelspec": {
   "display_name": "Python 3",
   "language": "python",
   "name": "python3"
  },
  "language_info": {
   "codemirror_mode": {
    "name": "ipython",
    "version": 3
   },
   "file_extension": ".py",
   "mimetype": "text/x-python",
   "name": "python",
   "nbconvert_exporter": "python",
   "pygments_lexer": "ipython3",
   "version": "3.11.5"
  }
 },
 "nbformat": 4,
 "nbformat_minor": 5
}
