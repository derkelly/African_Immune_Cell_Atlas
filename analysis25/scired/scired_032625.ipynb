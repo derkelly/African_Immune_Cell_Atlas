{
 "cells": [
  {
   "cell_type": "code",
   "execution_count": 8,
   "id": "efd61372-29c2-4c92-8608-ee189c1c60ab",
   "metadata": {},
   "outputs": [],
   "source": [
    "import numpy as np\n",
    "import pandas as pd\n",
    "import matplotlib.pyplot as plt\n",
    "import statsmodels as sm\n",
    "import scanpy as sc\n",
    "\n",
    "from sklearn.preprocessing import StandardScaler\n",
    "from sklearn.decomposition import PCA\n",
    "from sklearn.pipeline import Pipeline\n",
    "\n",
    "from sciRED import glm\n",
    "from sciRED import rotations as rot\n",
    "from sciRED import ensembleFCA as efca\n",
    "from sciRED import metrics as met\n",
    "\n",
    "from sciRED.utils import preprocess as proc\n",
    "from sciRED.utils import visualize as vis\n",
    "from sciRED.utils import corr\n",
    "\n",
    "from sciRED.examples import ex_preprocess as exproc\n",
    "from sciRED.examples import ex_visualize as exvis"
   ]
  },
  {
   "cell_type": "code",
   "execution_count": 2,
   "id": "5eb08f78-676f-4a33-9241-376b12e24a0d",
   "metadata": {},
   "outputs": [],
   "source": [
    "np.random.seed(10)\n",
    "NUM_COMPONENTS = 30\n",
    "NUM_GENES = 2000\n",
    "NUM_COMP_TO_VIS = 3"
   ]
  },
  {
   "cell_type": "code",
   "execution_count": null,
   "id": "ee9a46fb-9f68-4e26-aeaf-62e8287fbe66",
   "metadata": {},
   "outputs": [],
   "source": [
    "%%capture\n",
    "data_file_path = '../../test/test123/write/qc_020725_raw.h5ad'\n",
    "data = sc.read(data_file_path)"
   ]
  },
  {
   "cell_type": "code",
   "execution_count": 13,
   "id": "e2afb479-9ac3-4d5c-9b11-913de7c32b04",
   "metadata": {},
   "outputs": [
    {
     "data": {
      "text/plain": [
       "AnnData object with n_obs × n_vars = 2416314 × 36601\n",
       "    obs: 'donor_id', 'library', 'n_genes_by_counts', 'total_counts', 'total_counts_mt', 'pct_counts_mt', 'total_counts_hb', 'pct_counts_hb', 'log10_total_counts', 'doublet_score', 'predicted_doublet', 'FID', 'LID', 'TID', 'COHORT', 'COND', 'SEX', 'AGE', 'POP', 'Ethnicity', 'FCluster_names', 'Cluster_names', 'SCluster_names', 'cytopus_names', 'BATCH'"
      ]
     },
     "execution_count": 13,
     "metadata": {},
     "output_type": "execute_result"
    }
   ],
   "source": [
    "data"
   ]
  },
  {
   "cell_type": "code",
   "execution_count": null,
   "id": "9a5e6aa0-47f2-4c4b-8427-6b2aeb775dd2",
   "metadata": {},
   "outputs": [],
   "source": [
    "data, gene_idx = proc.get_sub_data(data, num_genes=NUM_GENES) # subset the data to num_genes HVGs\n",
    "y, genes, num_cells, num_genes = proc.get_data_array(data)"
   ]
  },
  {
   "cell_type": "code",
   "execution_count": 5,
   "id": "8713a0f6-e4e5-43ef-9938-d18896aadcff",
   "metadata": {},
   "outputs": [
    {
     "ename": "NameError",
     "evalue": "name 'data' is not defined",
     "output_type": "error",
     "traceback": [
      "\u001b[31m---------------------------------------------------------------------------\u001b[39m",
      "\u001b[31mNameError\u001b[39m                                 Traceback (most recent call last)",
      "\u001b[36mCell\u001b[39m\u001b[36m \u001b[39m\u001b[32mIn[5]\u001b[39m\u001b[32m, line 2\u001b[39m\n\u001b[32m      1\u001b[39m \u001b[38;5;66;03m#### design matrix - library size only\u001b[39;00m\n\u001b[32m----> \u001b[39m\u001b[32m2\u001b[39m x = proc.get_library_design_mat(\u001b[43mdata\u001b[49m, lib_size=\u001b[33m'\u001b[39m\u001b[33mnCount_originalexp\u001b[39m\u001b[33m'\u001b[39m)\n\u001b[32m      4\u001b[39m \u001b[38;5;66;03m### fit GLM to each gene\u001b[39;00m\n\u001b[32m      5\u001b[39m glm_fit_dict = glm.poissonGLM(y, x)\n",
      "\u001b[31mNameError\u001b[39m: name 'data' is not defined"
     ]
    }
   ],
   "source": [
    "#### design matrix - library size only\n",
    "x = proc.get_library_design_mat(data, lib_size='nCount_originalexp')\n",
    "\n",
    "### fit GLM to each gene\n",
    "glm_fit_dict = glm.poissonGLM(y, x)\n",
    "resid_pearson = glm_fit_dict['resid_pearson'] \n",
    "print('pearson residuals: ', resid_pearson.shape) # numpy array of shape (num_genes, num_cells)\n",
    "print('y shape: ', y.shape) # (num_cells, num_genes)\n",
    "y = resid_pearson.T # (num_cells, num_genes)\n",
    "print('y shape: ', y.shape) # (num_cells, num_genes)"
   ]
  }
 ],
 "metadata": {
  "kernelspec": {
   "display_name": "Python [conda env:scired]",
   "language": "python",
   "name": "conda-env-scired-py"
  },
  "language_info": {
   "codemirror_mode": {
    "name": "ipython",
    "version": 3
   },
   "file_extension": ".py",
   "mimetype": "text/x-python",
   "name": "python",
   "nbconvert_exporter": "python",
   "pygments_lexer": "ipython3",
   "version": "3.13.2"
  }
 },
 "nbformat": 4,
 "nbformat_minor": 5
}
